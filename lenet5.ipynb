{
  "nbformat": 4,
  "nbformat_minor": 0,
  "metadata": {
    "colab": {
      "name": "lenet5.ipynb",
      "provenance": [],
      "collapsed_sections": [],
      "authorship_tag": "ABX9TyNoKaIdn+5yIIY7xyMDzTt9",
      "include_colab_link": true
    },
    "kernelspec": {
      "name": "python3",
      "display_name": "Python 3"
    },
    "accelerator": "GPU"
  },
  "cells": [
    {
      "cell_type": "markdown",
      "metadata": {
        "id": "view-in-github",
        "colab_type": "text"
      },
      "source": [
        "<a href=\"https://colab.research.google.com/github/dipanshuhaldar/keras_implementations-/blob/master/lenet5.ipynb\" target=\"_parent\"><img src=\"https://colab.research.google.com/assets/colab-badge.svg\" alt=\"Open In Colab\"/></a>"
      ]
    },
    {
      "cell_type": "markdown",
      "metadata": {
        "id": "3keQ5vKLMpEW",
        "colab_type": "text"
      },
      "source": [
        "#Implementation of LeNet5 in Keras with Mnist dataset"
      ]
    },
    {
      "cell_type": "markdown",
      "metadata": {
        "id": "zKyUBlfsMzxE",
        "colab_type": "text"
      },
      "source": [
        "**This code implementation is in line with** \n",
        "[LeCun et al., 1998. Gradient based learning applied to document recognition]\n",
        "\n",
        "**Some minor changes are made to the original architecture** \n",
        "*   ReLU activation instead of sigmoid/tanh\n",
        "*   max pooling instead of avg pooling\n",
        "*   softmax output layer instead of sigmoid/tanh"
      ]
    },
    {
      "cell_type": "code",
      "metadata": {
        "id": "63S41aJUMyt0",
        "colab_type": "code",
        "colab": {}
      },
      "source": [
        "#Import all dependencies\n",
        "import numpy as np\n",
        "import pandas as pd\n",
        "import matplotlib.pyplot as plt\n",
        "\n",
        "import keras\n",
        "from keras.datasets import mnist\n",
        "from keras.models import Sequential\n",
        "from keras.layers import Dense, Dropout, Flatten\n",
        "from keras.layers import Conv2D, MaxPooling2D\n",
        "from keras.utils import np_utils\n",
        "from keras import backend as K"
      ],
      "execution_count": 0,
      "outputs": []
    },
    {
      "cell_type": "code",
      "metadata": {
        "id": "DO7CsfueTWdJ",
        "colab_type": "code",
        "colab": {}
      },
      "source": [
        "#Set batch_size, number_classes, epochs, num_channels\n",
        "batch_size = 128\n",
        "num_classes = 10 \n",
        "epochs = 12\n",
        "num_channels = 1"
      ],
      "execution_count": 0,
      "outputs": []
    },
    {
      "cell_type": "code",
      "metadata": {
        "id": "Ts3eRN8lV81Q",
        "colab_type": "code",
        "colab": {}
      },
      "source": [
        "#Train test data split\n",
        "(X_train, y_train), (X_test, y_test) = mnist.load_data()"
      ],
      "execution_count": 0,
      "outputs": []
    },
    {
      "cell_type": "code",
      "metadata": {
        "id": "yzZKxsz-U4Rv",
        "colab_type": "code",
        "colab": {}
      },
      "source": [
        "#Image input dimensions\n",
        "img_rows, img_cols = X_train.shape[1], X_train.shape[2]"
      ],
      "execution_count": 0,
      "outputs": []
    },
    {
      "cell_type": "code",
      "metadata": {
        "id": "meWgpzGDWMNw",
        "colab_type": "code",
        "colab": {}
      },
      "source": [
        "#if we are using channels first, update the input shape\n",
        "if K.image_data_format() == 'channels_first':\n",
        "  X_train = X_train.reshape(X_train.shape[0], num_channels, img_rows, img_cols)\n",
        "  X_test = X_test.reshape(X_test.shape[0], num_channels, img_rows, img_cols)\n",
        "  input_shape = (num_channels, img_rows, img_cols)\n",
        "else:\n",
        "  X_train = X_train.reshape(X_train.shape[0], img_rows, img_cols, num_channels)\n",
        "  X_test = X_test.reshape(X_test.shape[0], img_rows, img_cols, num_channels)\n",
        "  input_shape = (img_rows, img_cols, num_channels)"
      ],
      "execution_count": 0,
      "outputs": []
    },
    {
      "cell_type": "code",
      "metadata": {
        "id": "KP8oAHl5nf1S",
        "colab_type": "code",
        "outputId": "f843bce9-5abf-4e97-d654-de5cd2421bb0",
        "colab": {
          "base_uri": "https://localhost:8080/",
          "height": 87
        }
      },
      "source": [
        "##Data Preparation\n",
        "X_train = X_train.astype('float32')\n",
        "X_test = X_test.astype('float32')\n",
        "X_train /= 255\n",
        "X_test /= 255\n",
        "\n",
        "print('Training Data Shape: ',X_train.shape)\n",
        "print('Total Number of training samples: ',X_train.shape[0])\n",
        "print('Total Number of test samples: ',X_test.shape[0])"
      ],
      "execution_count": 0,
      "outputs": [
        {
          "output_type": "stream",
          "text": [
            "Training Data Shape:  (60000, 28, 28, 1)\n",
            "Total Number of training samples:  60000\n",
            "Total Number of test samples:  10000\n"
          ],
          "name": "stdout"
        }
      ]
    },
    {
      "cell_type": "code",
      "metadata": {
        "id": "GPdTMn3DsV48",
        "colab_type": "code",
        "colab": {}
      },
      "source": [
        "#Convert the Labels to binary Class Matrices\n",
        "y_train = np_utils.to_categorical(y_train, num_classes)\n",
        "y_test = np_utils.to_categorical(y_test, num_classes)"
      ],
      "execution_count": 0,
      "outputs": []
    },
    {
      "cell_type": "markdown",
      "metadata": {
        "id": "-GQv9c5tuPtp",
        "colab_type": "text"
      },
      "source": [
        "Model Building"
      ]
    },
    {
      "cell_type": "code",
      "metadata": {
        "id": "vLMsI4DfuRDi",
        "colab_type": "code",
        "colab": {}
      },
      "source": [
        "lenet = Sequential()\n",
        "\n",
        "#define 1st CONV => ACTIVATION => POOL layers\n",
        "\n",
        "#########################\n",
        "#CONV2D layer runs total 32 convolution filters of size(3, 3) and Activation Function to be used is ReLu\n",
        "lenet.add(Conv2D(32, kernel_size= (3, 3), activation = 'relu', input_shape = input_shape))\n",
        "#MaxPooling window size is (2, 2) with a sliding window size of (2, 2)\n",
        "lenet.add(MaxPooling2D(pool_size = (2, 2)))\n",
        "#########################\n",
        "\n",
        "#define 2nd CONV => ACTIVATION => Pool layers\n",
        "\n",
        "#########################\n",
        "#CONV2D layer runs total 64 convolution filters of size(3, 3) and Activation Function to be used is ReLu\n",
        "lenet.add(Conv2D(64, kernel_size = (3, 3), activation = 'relu'))\n",
        "#MaxPooling window size is (2, 2) with a sliding window size of (2, 2)\n",
        "lenet.add(MaxPooling2D(pool_size=(2, 2)))\n",
        "#Dropout introduced 25%\n",
        "lenet.add(Dropout(0.25))\n",
        "#########################\n",
        "\n",
        "#define 1st FC => ACTIVATION layers\n",
        "\n",
        "#########################\n",
        "#we take the output of the previous MaxPooling2D layer and flatten \n",
        "#   it into a single vector so that we can apply Dense layers\n",
        "\n",
        "lenet.add(Flatten())\n",
        "#Dense layer contains 128 nodes and Activation Function to be used is ReLu\n",
        "lenet.add(Dense(128, activation = 'relu'))\n",
        "#Dropout introduced 25%\n",
        "lenet.add(Dropout(0.5))\n",
        "#########################\n",
        "\n",
        "#define 2nd FC layer accepting the number of classes\n",
        "\n",
        "#########################\n",
        "lenet.add(Dense(num_classes, activation = 'softmax'))\n",
        "#########################"
      ],
      "execution_count": 0,
      "outputs": []
    },
    {
      "cell_type": "markdown",
      "metadata": {
        "id": "rPkkHzypui1N",
        "colab_type": "text"
      },
      "source": [
        "Model Compilation"
      ]
    },
    {
      "cell_type": "code",
      "metadata": {
        "id": "-MvcqOkAb1xm",
        "colab_type": "code",
        "colab": {}
      },
      "source": [
        "#Model Evaluation Metrics\n",
        "\n",
        "def recall_m(y_true, y_pred):\n",
        "    true_positives = K.sum(K.round(K.clip(y_true * y_pred, 0, 1)))\n",
        "    possible_positives = K.sum(K.round(K.clip(y_true, 0, 1)))\n",
        "    recall = true_positives / (possible_positives + K.epsilon())\n",
        "    return recall\n",
        "\n",
        "def precision_m(y_true, y_pred):\n",
        "    true_positives = K.sum(K.round(K.clip(y_true * y_pred, 0, 1)))\n",
        "    predicted_positives = K.sum(K.round(K.clip(y_pred, 0, 1)))\n",
        "    precision = true_positives / (predicted_positives + K.epsilon())\n",
        "    return precision\n",
        "\n",
        "def f1_m(y_true, y_pred):\n",
        "    precision = precision_m(y_true, y_pred)\n",
        "    recall = recall_m(y_true, y_pred)\n",
        "    return 2*((precision*recall)/(precision+recall+K.epsilon()))"
      ],
      "execution_count": 0,
      "outputs": []
    },
    {
      "cell_type": "code",
      "metadata": {
        "id": "y70oAVCJujTE",
        "colab_type": "code",
        "colab": {}
      },
      "source": [
        "#Compile model\n",
        "lenet.compile(optimizer = keras.optimizers.Adadelta(), loss = 'categorical_crossentropy',  \n",
        "              metrics = ['accuracy',f1_m, precision_m, recall_m])"
      ],
      "execution_count": 0,
      "outputs": []
    },
    {
      "cell_type": "markdown",
      "metadata": {
        "id": "kxDXtiU-uj5R",
        "colab_type": "text"
      },
      "source": [
        "Model Training"
      ]
    },
    {
      "cell_type": "code",
      "metadata": {
        "id": "X4FQDKgvumUz",
        "colab_type": "code",
        "outputId": "1ccb22bc-9700-4a8c-a3d9-1922ca46b580",
        "colab": {
          "base_uri": "https://localhost:8080/",
          "height": 978
        }
      },
      "source": [
        "#Early Stopping\n",
        "from keras.callbacks import EarlyStopping\n",
        "early_stopping_monitor = EarlyStopping(patience = 3)\n",
        "\n",
        "#Train Model\n",
        "history = lenet.fit(X_train, y_train, batch_size = batch_size, epochs = epochs, verbose = 1, \n",
        "          validation_split=0.3,  callbacks = [early_stopping_monitor])\n",
        "\n",
        "#Accuracy and Loss change per epoch\n",
        "\n",
        "accuracy = history.history['accuracy']\n",
        "val_accuracy = history.history['val_accuracy']\n",
        "loss = history.history['loss'] \n",
        "val_loss = history.history['val_loss']\n",
        "\n",
        "epochs = range(len(accuracy))\n",
        "\n",
        "plt.plot(epochs, accuracy, 'r', label='Training accuracy')\n",
        "plt.plot(epochs, val_accuracy, 'b', label='Validation accuracy')\n",
        "plt.title('Training and validation accuracy')\n",
        "\n",
        "plt.figure()\n",
        "\n",
        "plt.plot(epochs, loss, 'r', label='Training Loss')\n",
        "plt.plot(epochs, val_loss, 'b', label='Validation Loss')\n",
        "plt.title('Training and validation loss')\n",
        "plt.legend()\n",
        "\n",
        "plt.show()"
      ],
      "execution_count": 0,
      "outputs": [
        {
          "output_type": "stream",
          "text": [
            "Train on 42000 samples, validate on 18000 samples\n",
            "Epoch 1/12\n",
            "42000/42000 [==============================] - 2s 53us/step - loss: 0.3935 - accuracy: 0.8760 - f1_m: 0.8571 - precision_m: 0.9051 - recall_m: 0.8315 - val_loss: 0.0935 - val_accuracy: 0.9717 - val_f1_m: 0.9719 - val_precision_m: 0.9771 - val_recall_m: 0.9668\n",
            "Epoch 2/12\n",
            "42000/42000 [==============================] - 2s 48us/step - loss: 0.1251 - accuracy: 0.9618 - f1_m: 0.9625 - precision_m: 0.9694 - recall_m: 0.9558 - val_loss: 0.0795 - val_accuracy: 0.9754 - val_f1_m: 0.9758 - val_precision_m: 0.9787 - val_recall_m: 0.9729\n",
            "Epoch 3/12\n",
            "42000/42000 [==============================] - 2s 48us/step - loss: 0.0932 - accuracy: 0.9716 - f1_m: 0.9718 - precision_m: 0.9758 - recall_m: 0.9678 - val_loss: 0.0540 - val_accuracy: 0.9833 - val_f1_m: 0.9836 - val_precision_m: 0.9854 - val_recall_m: 0.9818\n",
            "Epoch 4/12\n",
            "42000/42000 [==============================] - 2s 49us/step - loss: 0.0766 - accuracy: 0.9768 - f1_m: 0.9769 - precision_m: 0.9803 - recall_m: 0.9736 - val_loss: 0.0483 - val_accuracy: 0.9844 - val_f1_m: 0.9847 - val_precision_m: 0.9863 - val_recall_m: 0.9831\n",
            "Epoch 5/12\n",
            "42000/42000 [==============================] - 2s 48us/step - loss: 0.0670 - accuracy: 0.9789 - f1_m: 0.9794 - precision_m: 0.9823 - recall_m: 0.9764 - val_loss: 0.0495 - val_accuracy: 0.9846 - val_f1_m: 0.9848 - val_precision_m: 0.9862 - val_recall_m: 0.9835\n",
            "Epoch 6/12\n",
            "42000/42000 [==============================] - 2s 48us/step - loss: 0.0598 - accuracy: 0.9820 - f1_m: 0.9821 - precision_m: 0.9847 - recall_m: 0.9795 - val_loss: 0.0465 - val_accuracy: 0.9856 - val_f1_m: 0.9859 - val_precision_m: 0.9873 - val_recall_m: 0.9846\n",
            "Epoch 7/12\n",
            "42000/42000 [==============================] - 2s 48us/step - loss: 0.0513 - accuracy: 0.9845 - f1_m: 0.9847 - precision_m: 0.9864 - recall_m: 0.9830 - val_loss: 0.0444 - val_accuracy: 0.9868 - val_f1_m: 0.9869 - val_precision_m: 0.9879 - val_recall_m: 0.9859\n",
            "Epoch 8/12\n",
            "42000/42000 [==============================] - 2s 48us/step - loss: 0.0472 - accuracy: 0.9852 - f1_m: 0.9855 - precision_m: 0.9870 - recall_m: 0.9841 - val_loss: 0.0368 - val_accuracy: 0.9884 - val_f1_m: 0.9887 - val_precision_m: 0.9898 - val_recall_m: 0.9876\n",
            "Epoch 9/12\n",
            "42000/42000 [==============================] - 2s 48us/step - loss: 0.0468 - accuracy: 0.9863 - f1_m: 0.9866 - precision_m: 0.9881 - recall_m: 0.9851 - val_loss: 0.0374 - val_accuracy: 0.9885 - val_f1_m: 0.9886 - val_precision_m: 0.9895 - val_recall_m: 0.9878\n",
            "Epoch 10/12\n",
            "42000/42000 [==============================] - 2s 48us/step - loss: 0.0427 - accuracy: 0.9866 - f1_m: 0.9870 - precision_m: 0.9885 - recall_m: 0.9855 - val_loss: 0.0368 - val_accuracy: 0.9894 - val_f1_m: 0.9896 - val_precision_m: 0.9903 - val_recall_m: 0.9889\n",
            "Epoch 11/12\n",
            "42000/42000 [==============================] - 2s 48us/step - loss: 0.0404 - accuracy: 0.9880 - f1_m: 0.9881 - precision_m: 0.9894 - recall_m: 0.9867 - val_loss: 0.0346 - val_accuracy: 0.9896 - val_f1_m: 0.9900 - val_precision_m: 0.9909 - val_recall_m: 0.9892\n",
            "Epoch 12/12\n",
            "42000/42000 [==============================] - 2s 48us/step - loss: 0.0372 - accuracy: 0.9885 - f1_m: 0.9885 - precision_m: 0.9897 - recall_m: 0.9873 - val_loss: 0.0328 - val_accuracy: 0.9902 - val_f1_m: 0.9905 - val_precision_m: 0.9912 - val_recall_m: 0.9899\n"
          ],
          "name": "stdout"
        },
        {
          "output_type": "display_data",
          "data": {
            "image/png": "[encoded data removed]",
            "text/plain": [
              "<Figure size 432x288 with 1 Axes>"
            ]
          },
          "metadata": {
            "tags": [],
            "needs_background": "light"
          }
        },
        {
          "output_type": "display_data",
          "data": {
            "image/png": "[encoded data removed]",
            "text/plain": [
              "<Figure size 432x288 with 1 Axes>"
            ]
          },
          "metadata": {
            "tags": [],
            "needs_background": "light"
          }
        }
      ]
    },
    {
      "cell_type": "markdown",
      "metadata": {
        "id": "KCgc-kHKurSw",
        "colab_type": "text"
      },
      "source": [
        "Make Predictions"
      ]
    },
    {
      "cell_type": "code",
      "metadata": {
        "id": "IyY5Bjqjurtu",
        "colab_type": "code",
        "outputId": "1e3dd995-8ff1-4887-e589-2386902e1596",
        "colab": {
          "base_uri": "https://localhost:8080/",
          "height": 100
        }
      },
      "source": [
        "#Evaluate the model\n",
        "loss, accuracy, f1_score, precision, recall = lenet.evaluate(X_test, y_test, verbose=0)\n",
        "\n",
        "#Model evaluation Metrics\n",
        "pd.DataFrame({'Loss': [loss],\n",
        "              'Accuracy': [accuracy],\n",
        "              'f1_score': [f1_score],\n",
        "              'Precision': [precision],\n",
        "              'Recall': [recall]\n",
        "              })"
      ],
      "execution_count": 0,
      "outputs": [
        {
          "output_type": "execute_result",
          "data": {
            "text/html": [
              "<div>\n",
              "<style scoped>\n",
              "    .dataframe tbody tr th:only-of-type {\n",
              "        vertical-align: middle;\n",
              "    }\n",
              "\n",
              "    .dataframe tbody tr th {\n",
              "        vertical-align: top;\n",
              "    }\n",
              "\n",
              "    .dataframe thead th {\n",
              "        text-align: right;\n",
              "    }\n",
              "</style>\n",
              "<table border=\"1\" class=\"dataframe\">\n",
              "  <thead>\n",
              "    <tr style=\"text-align: right;\">\n",
              "      <th></th>\n",
              "      <th>Loss</th>\n",
              "      <th>Accuracy</th>\n",
              "      <th>f1_score</th>\n",
              "      <th>Precision</th>\n",
              "      <th>Recall</th>\n",
              "    </tr>\n",
              "  </thead>\n",
              "  <tbody>\n",
              "    <tr>\n",
              "      <th>0</th>\n",
              "      <td>0.024207</td>\n",
              "      <td>0.9917</td>\n",
              "      <td>0.991537</td>\n",
              "      <td>0.992286</td>\n",
              "      <td>0.990815</td>\n",
              "    </tr>\n",
              "  </tbody>\n",
              "</table>\n",
              "</div>"
            ],
            "text/plain": [
              "       Loss  Accuracy  f1_score  Precision    Recall\n",
              "0  0.024207    0.9917  0.991537   0.992286  0.990815"
            ]
          },
          "metadata": {
            "tags": []
          },
          "execution_count": 63
        }
      ]
    }
  ]
}